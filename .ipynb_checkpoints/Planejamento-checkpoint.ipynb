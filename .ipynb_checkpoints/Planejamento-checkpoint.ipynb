{
 "cells": [
  {
   "cell_type": "markdown",
   "id": "dedaa1bb",
   "metadata": {},
   "source": [
    "## Planejamento"
   ]
  },
  {
   "cell_type": "markdown",
   "id": "dd5d4d3e",
   "metadata": {},
   "source": [
    "1. Uso de alguma técnica de aprendizado de máquina para resolver certo problema\n",
    "2. Vídeo (máximo de 15 min) demonstrando o uso do sistema proposto\n",
    "3. Relatório explicativo sobre o que foi realizado. \n",
    "\n",
    "Esse trabalho também deverá ser enviado ao Vinicius (email: viniciuscmgo@gmail.com)"
   ]
  },
  {
   "cell_type": "markdown",
   "id": "0dafce3b",
   "metadata": {},
   "source": [
    "**Uso da técnica de Regressão Logística para classificação de fetos em três possíveis classes:** normal, com condições suspeitas e com condições patológicas."
   ]
  },
  {
   "cell_type": "markdown",
   "id": "474a0f4f",
   "metadata": {},
   "source": [
    "### Sobre os dados\n",
    "\n",
    "*Dados:* Data set [Fetal Health Classification](https://www.kaggle.com/andrewmvd/fetal-health-classification), disponível no site Kaggle.\n",
    "\n",
    "O conjnto de dados conta com 22 colunas e 2126 linhas da tabela no total, sendo que todos eles foram extraídos de exames cardiológicos e classificados por médicos obstétras experientes. As classificações são de três níveis diferentes, indicando para o feto:\n",
    "1. Condições normais\n",
    "2. Condições suspeitas\n",
    "3. Condições patológicas (doença)\n",
    "\n",
    "\n",
    "Coluna | Conteúdo\n",
    "-------|-------\n",
    "baseline value | Baseline Fetal Heart Rate (FHR)\n",
    "accelerations | Number of accelerations per second \n",
    "fetal_movement | Number of fetal movements per second\n",
    "uterine_contractions | Number of uterine contractions per second\n",
    "light_decelerations | Number of LDs per second\n",
    "severe_decelerations | Number of SDs per second\n",
    "prolongued_decelerations | Number of PDs per second\n",
    "abnormal_short_term_variability | Percentage of time with abnormal short term variability\n",
    "mean_value_of_short_term_variability | Mean value of short term variability\n",
    "percentage_of_time_with_abnormal_long_term_variability | Percentage of time with abnormal long term variability\n",
    "mean_value_of_long_term_variability | Mean value of long term variability\n",
    "histogram_width | Width of the histogram made using all values from a record\n",
    "histogram_min | Histogram minimum value\n",
    "histogram_max | Histogram maximum value\n",
    "histogram_number_of_peaks | Number of peaks in the exam histogram\n",
    "histogram_number_of_zeroes | Number of zeroes in the exam histogram\n",
    "histogram_mode | Hist mode\n",
    "histogram_mean | Hist mean\n",
    "histogram_median | Hist Median\n",
    "histogram_variance | Hist variance\n",
    "histogram_tendency | Histogram trend\n",
    "fetal_health (target) | Fetal health: 1 - Normal 2 - Suspect 3 - Pathological\n",
    "\n",
    "Como forma de reduzir o alto número de colunas, foram selecionadas"
   ]
  },
  {
   "cell_type": "markdown",
   "id": "e93566a9",
   "metadata": {},
   "source": [
    "### Estrutura do trabalho\n",
    "O projeto foi dividido em 04 partes:\n",
    "1. Data mining\n",
    "    1. Pré processamento dos dados\n",
    "        - Limpeza e correções\n",
    "        - Balanceamento\n",
    "\n",
    "    2. Processamento\n",
    "        - Identificando a correlação das características (features)\n",
    "        - Filtrando o conjunto de dados\n",
    "        \n",
    "        \n",
    "2. Modeling        \n",
    "    - Separação e normalização dos dados\n",
    "    - Treinamento do modelo\n",
    "    - Avaliação do desempenho do modelo criado com relação a dados desconhecidos (Evaluation)\n",
    "        - Precision e Recall\n",
    "        - F1 Score\n",
    "        - Confusion Matrix\n",
    "    - Salvando o modelo para uso na aplicação\n",
    "    \n",
    "    \n",
    "3. Aplicação"
   ]
  }
 ],
 "metadata": {
  "kernelspec": {
   "display_name": "Python 3",
   "language": "python",
   "name": "python3"
  },
  "language_info": {
   "codemirror_mode": {
    "name": "ipython",
    "version": 3
   },
   "file_extension": ".py",
   "mimetype": "text/x-python",
   "name": "python",
   "nbconvert_exporter": "python",
   "pygments_lexer": "ipython3",
   "version": "3.9.4"
  }
 },
 "nbformat": 4,
 "nbformat_minor": 5
}
