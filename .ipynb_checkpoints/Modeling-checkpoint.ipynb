{
 "cells": [
  {
   "cell_type": "code",
   "execution_count": 1,
   "id": "fd5bacf3",
   "metadata": {},
   "outputs": [],
   "source": [
    "import numpy as np\n",
    "import pandas as pd\n",
    "import matplotlib.pyplot as plt\n",
    "import seaborn as sns"
   ]
  },
  {
   "cell_type": "markdown",
   "id": "6182ed2e",
   "metadata": {},
   "source": [
    "## Modeling"
   ]
  },
  {
   "cell_type": "code",
   "execution_count": 2,
   "id": "f2457a83",
   "metadata": {},
   "outputs": [],
   "source": [
    "#Acessando os dados\n",
    "df = pd.read_csv('fetal_health_balanced.csv')"
   ]
  },
  {
   "cell_type": "markdown",
   "id": "a5ed9b66",
   "metadata": {},
   "source": [
    "### Separação e normalização dos dados"
   ]
  },
  {
   "cell_type": "code",
   "execution_count": 3,
   "id": "725a71ca",
   "metadata": {},
   "outputs": [],
   "source": [
    "from sklearn.model_selection import train_test_split\n",
    "from sklearn.preprocessing import StandardScaler\n",
    "\n",
    "#Separando as variáveis independentes do data frame (X) com a variável dependente (y)\n",
    "X = df.drop('fetal_health', axis=1)\n",
    "y = df['fetal_health']\n",
    "\n",
    "#Normalizando X\n",
    "X = StandardScaler().fit_transform(X)\n",
    "\n",
    "#Separação dos dados em 2 conjuntos, de treinamento (70%) e de teste do modelo (30% dos dados)\n",
    "X_train, X_test, y_train, y_test = train_test_split(X, y, test_size=0.35, random_state=13)"
   ]
  },
  {
   "cell_type": "markdown",
   "id": "f2ff052b",
   "metadata": {},
   "source": [
    "### Treinamento do modelo\n",
    "\n",
    "O modelo definido para uso neste problema de classificação (para três classes) é o de Regressão Logística."
   ]
  },
  {
   "cell_type": "code",
   "execution_count": 4,
   "id": "25dfdedd",
   "metadata": {},
   "outputs": [],
   "source": [
    "from sklearn.linear_model import LogisticRegression\n",
    "\n",
    "#Instanciando modelo\n",
    "lr_model = LogisticRegression(random_state=13)\n",
    "\n",
    "#Treinamento do modelo\n",
    "lr_model.fit(X_train, y_train)\n",
    "\n",
    "#Gerando resultados para teste\n",
    "y_hat = lr_model.predict(X_test)"
   ]
  },
  {
   "cell_type": "markdown",
   "id": "c16830e6",
   "metadata": {},
   "source": [
    "### Avaliação do desempenho do modelo criado com relação a dados desconhecidos (Evaluation)"
   ]
  },
  {
   "cell_type": "markdown",
   "id": "7b5527a5",
   "metadata": {},
   "source": [
    "#### Precision"
   ]
  },
  {
   "cell_type": "code",
   "execution_count": 5,
   "id": "8c935a54",
   "metadata": {},
   "outputs": [
    {
     "data": {
      "text/plain": [
       "0.8776371308016878"
      ]
     },
     "execution_count": 5,
     "metadata": {},
     "output_type": "execute_result"
    }
   ],
   "source": [
    "from sklearn.metrics import precision_score\n",
    "\n",
    "precision_score(y_true=y_test, y_pred=y_hat, average='micro')"
   ]
  },
  {
   "cell_type": "markdown",
   "id": "7cd6f85c",
   "metadata": {},
   "source": [
    "#### Recall"
   ]
  },
  {
   "cell_type": "code",
   "execution_count": 6,
   "id": "e49fc278",
   "metadata": {},
   "outputs": [
    {
     "data": {
      "text/plain": [
       "0.8776371308016878"
      ]
     },
     "execution_count": 6,
     "metadata": {},
     "output_type": "execute_result"
    }
   ],
   "source": [
    "from sklearn.metrics import recall_score\n",
    "\n",
    "recall_score(y_true=y_test, y_pred=y_hat, average='micro')"
   ]
  },
  {
   "cell_type": "markdown",
   "id": "453b0e9c",
   "metadata": {},
   "source": [
    "#### F1 Score"
   ]
  },
  {
   "cell_type": "code",
   "execution_count": 7,
   "id": "b82b155b",
   "metadata": {},
   "outputs": [
    {
     "data": {
      "text/plain": [
       "0.8776371308016878"
      ]
     },
     "execution_count": 7,
     "metadata": {},
     "output_type": "execute_result"
    }
   ],
   "source": [
    "from sklearn.metrics import f1_score\n",
    "\n",
    "f1_score(y_true=y_test, y_pred=y_hat, average='micro')"
   ]
  },
  {
   "cell_type": "markdown",
   "id": "a2ef5eb4",
   "metadata": {},
   "source": [
    "Com relação as pontuações de precision e recall serem iguais, isso pode demonstrar que o modelo está equilibrado com relação a falsos positivos e falsos negativos, apresentando a mesma quantidade de erros do tipo I e tipo II."
   ]
  },
  {
   "cell_type": "markdown",
   "id": "8ed5d508",
   "metadata": {},
   "source": [
    "### Salvando o modelo para uso na aplicação"
   ]
  },
  {
   "cell_type": "code",
   "execution_count": 8,
   "id": "ac4e0730",
   "metadata": {},
   "outputs": [],
   "source": [
    "import pickle\n",
    "\n",
    "arquivo = open('modelo.pk', 'wb')\n",
    "pickle.dump(lr_model, arquivo)\n",
    "arquivo.close()"
   ]
  },
  {
   "cell_type": "code",
   "execution_count": 10,
   "id": "06714b7c",
   "metadata": {},
   "outputs": [
    {
     "ename": "AttributeError",
     "evalue": "'numpy.ndarray' object has no attribute 'head'",
     "output_type": "error",
     "traceback": [
      "\u001b[1;31m---------------------------------------------------------------------------\u001b[0m",
      "\u001b[1;31mAttributeError\u001b[0m                            Traceback (most recent call last)",
      "\u001b[1;32m<ipython-input-10-c8ff277ea5c9>\u001b[0m in \u001b[0;36m<module>\u001b[1;34m\u001b[0m\n\u001b[1;32m----> 1\u001b[1;33m \u001b[0mX_test\u001b[0m\u001b[1;33m.\u001b[0m\u001b[0mhead\u001b[0m\u001b[1;33m(\u001b[0m\u001b[1;33m)\u001b[0m\u001b[1;33m\u001b[0m\u001b[1;33m\u001b[0m\u001b[0m\n\u001b[0m",
      "\u001b[1;31mAttributeError\u001b[0m: 'numpy.ndarray' object has no attribute 'head'"
     ]
    }
   ],
   "source": [
    "X_test.head()"
   ]
  },
  {
   "cell_type": "code",
   "execution_count": null,
   "id": "16ccad28",
   "metadata": {},
   "outputs": [],
   "source": []
  }
 ],
 "metadata": {
  "kernelspec": {
   "display_name": "Python 3",
   "language": "python",
   "name": "python3"
  },
  "language_info": {
   "codemirror_mode": {
    "name": "ipython",
    "version": 3
   },
   "file_extension": ".py",
   "mimetype": "text/x-python",
   "name": "python",
   "nbconvert_exporter": "python",
   "pygments_lexer": "ipython3",
   "version": "3.9.4"
  }
 },
 "nbformat": 4,
 "nbformat_minor": 5
}
