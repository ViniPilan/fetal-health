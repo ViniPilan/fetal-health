{
 "cells": [
  {
   "cell_type": "code",
   "execution_count": 1,
   "id": "493f3d9d",
   "metadata": {},
   "outputs": [],
   "source": [
    "import numpy as np\n",
    "import pandas as pd\n",
    "import matplotlib.pyplot as plt\n",
    "import seaborn as sns"
   ]
  },
  {
   "cell_type": "markdown",
   "id": "6639ea4c",
   "metadata": {},
   "source": [
    "# Data mining"
   ]
  },
  {
   "cell_type": "markdown",
   "id": "8be7f147",
   "metadata": {},
   "source": [
    "## A. Pré Processamento do conjunto de dados"
   ]
  },
  {
   "cell_type": "markdown",
   "id": "20322476",
   "metadata": {},
   "source": [
    "### Limpeza e correções"
   ]
  },
  {
   "cell_type": "code",
   "execution_count": 2,
   "id": "87613f7d",
   "metadata": {},
   "outputs": [
    {
     "data": {
      "text/html": [
       "<div>\n",
       "<style scoped>\n",
       "    .dataframe tbody tr th:only-of-type {\n",
       "        vertical-align: middle;\n",
       "    }\n",
       "\n",
       "    .dataframe tbody tr th {\n",
       "        vertical-align: top;\n",
       "    }\n",
       "\n",
       "    .dataframe thead th {\n",
       "        text-align: right;\n",
       "    }\n",
       "</style>\n",
       "<table border=\"1\" class=\"dataframe\">\n",
       "  <thead>\n",
       "    <tr style=\"text-align: right;\">\n",
       "      <th></th>\n",
       "      <th>baseline value</th>\n",
       "      <th>accelerations</th>\n",
       "      <th>fetal_movement</th>\n",
       "      <th>uterine_contractions</th>\n",
       "      <th>light_decelerations</th>\n",
       "      <th>severe_decelerations</th>\n",
       "      <th>prolongued_decelerations</th>\n",
       "      <th>abnormal_short_term_variability</th>\n",
       "      <th>mean_value_of_short_term_variability</th>\n",
       "      <th>percentage_of_time_with_abnormal_long_term_variability</th>\n",
       "      <th>...</th>\n",
       "      <th>histogram_min</th>\n",
       "      <th>histogram_max</th>\n",
       "      <th>histogram_number_of_peaks</th>\n",
       "      <th>histogram_number_of_zeroes</th>\n",
       "      <th>histogram_mode</th>\n",
       "      <th>histogram_mean</th>\n",
       "      <th>histogram_median</th>\n",
       "      <th>histogram_variance</th>\n",
       "      <th>histogram_tendency</th>\n",
       "      <th>fetal_health</th>\n",
       "    </tr>\n",
       "  </thead>\n",
       "  <tbody>\n",
       "    <tr>\n",
       "      <th>0</th>\n",
       "      <td>120.0</td>\n",
       "      <td>0.000</td>\n",
       "      <td>0.0</td>\n",
       "      <td>0.000</td>\n",
       "      <td>0.000</td>\n",
       "      <td>0.0</td>\n",
       "      <td>0.0</td>\n",
       "      <td>73.0</td>\n",
       "      <td>0.5</td>\n",
       "      <td>43.0</td>\n",
       "      <td>...</td>\n",
       "      <td>62.0</td>\n",
       "      <td>126.0</td>\n",
       "      <td>2.0</td>\n",
       "      <td>0.0</td>\n",
       "      <td>120.0</td>\n",
       "      <td>137.0</td>\n",
       "      <td>121.0</td>\n",
       "      <td>73.0</td>\n",
       "      <td>1.0</td>\n",
       "      <td>2.0</td>\n",
       "    </tr>\n",
       "    <tr>\n",
       "      <th>1</th>\n",
       "      <td>132.0</td>\n",
       "      <td>0.006</td>\n",
       "      <td>0.0</td>\n",
       "      <td>0.006</td>\n",
       "      <td>0.003</td>\n",
       "      <td>0.0</td>\n",
       "      <td>0.0</td>\n",
       "      <td>17.0</td>\n",
       "      <td>2.1</td>\n",
       "      <td>0.0</td>\n",
       "      <td>...</td>\n",
       "      <td>68.0</td>\n",
       "      <td>198.0</td>\n",
       "      <td>6.0</td>\n",
       "      <td>1.0</td>\n",
       "      <td>141.0</td>\n",
       "      <td>136.0</td>\n",
       "      <td>140.0</td>\n",
       "      <td>12.0</td>\n",
       "      <td>0.0</td>\n",
       "      <td>1.0</td>\n",
       "    </tr>\n",
       "    <tr>\n",
       "      <th>2</th>\n",
       "      <td>133.0</td>\n",
       "      <td>0.003</td>\n",
       "      <td>0.0</td>\n",
       "      <td>0.008</td>\n",
       "      <td>0.003</td>\n",
       "      <td>0.0</td>\n",
       "      <td>0.0</td>\n",
       "      <td>16.0</td>\n",
       "      <td>2.1</td>\n",
       "      <td>0.0</td>\n",
       "      <td>...</td>\n",
       "      <td>68.0</td>\n",
       "      <td>198.0</td>\n",
       "      <td>5.0</td>\n",
       "      <td>1.0</td>\n",
       "      <td>141.0</td>\n",
       "      <td>135.0</td>\n",
       "      <td>138.0</td>\n",
       "      <td>13.0</td>\n",
       "      <td>0.0</td>\n",
       "      <td>1.0</td>\n",
       "    </tr>\n",
       "    <tr>\n",
       "      <th>3</th>\n",
       "      <td>134.0</td>\n",
       "      <td>0.003</td>\n",
       "      <td>0.0</td>\n",
       "      <td>0.008</td>\n",
       "      <td>0.003</td>\n",
       "      <td>0.0</td>\n",
       "      <td>0.0</td>\n",
       "      <td>16.0</td>\n",
       "      <td>2.4</td>\n",
       "      <td>0.0</td>\n",
       "      <td>...</td>\n",
       "      <td>53.0</td>\n",
       "      <td>170.0</td>\n",
       "      <td>11.0</td>\n",
       "      <td>0.0</td>\n",
       "      <td>137.0</td>\n",
       "      <td>134.0</td>\n",
       "      <td>137.0</td>\n",
       "      <td>13.0</td>\n",
       "      <td>1.0</td>\n",
       "      <td>1.0</td>\n",
       "    </tr>\n",
       "    <tr>\n",
       "      <th>4</th>\n",
       "      <td>132.0</td>\n",
       "      <td>0.007</td>\n",
       "      <td>0.0</td>\n",
       "      <td>0.008</td>\n",
       "      <td>0.000</td>\n",
       "      <td>0.0</td>\n",
       "      <td>0.0</td>\n",
       "      <td>16.0</td>\n",
       "      <td>2.4</td>\n",
       "      <td>0.0</td>\n",
       "      <td>...</td>\n",
       "      <td>53.0</td>\n",
       "      <td>170.0</td>\n",
       "      <td>9.0</td>\n",
       "      <td>0.0</td>\n",
       "      <td>137.0</td>\n",
       "      <td>136.0</td>\n",
       "      <td>138.0</td>\n",
       "      <td>11.0</td>\n",
       "      <td>1.0</td>\n",
       "      <td>1.0</td>\n",
       "    </tr>\n",
       "  </tbody>\n",
       "</table>\n",
       "<p>5 rows × 22 columns</p>\n",
       "</div>"
      ],
      "text/plain": [
       "   baseline value  accelerations  fetal_movement  uterine_contractions  \\\n",
       "0           120.0          0.000             0.0                 0.000   \n",
       "1           132.0          0.006             0.0                 0.006   \n",
       "2           133.0          0.003             0.0                 0.008   \n",
       "3           134.0          0.003             0.0                 0.008   \n",
       "4           132.0          0.007             0.0                 0.008   \n",
       "\n",
       "   light_decelerations  severe_decelerations  prolongued_decelerations  \\\n",
       "0                0.000                   0.0                       0.0   \n",
       "1                0.003                   0.0                       0.0   \n",
       "2                0.003                   0.0                       0.0   \n",
       "3                0.003                   0.0                       0.0   \n",
       "4                0.000                   0.0                       0.0   \n",
       "\n",
       "   abnormal_short_term_variability  mean_value_of_short_term_variability  \\\n",
       "0                             73.0                                   0.5   \n",
       "1                             17.0                                   2.1   \n",
       "2                             16.0                                   2.1   \n",
       "3                             16.0                                   2.4   \n",
       "4                             16.0                                   2.4   \n",
       "\n",
       "   percentage_of_time_with_abnormal_long_term_variability  ...  histogram_min  \\\n",
       "0                                               43.0       ...           62.0   \n",
       "1                                                0.0       ...           68.0   \n",
       "2                                                0.0       ...           68.0   \n",
       "3                                                0.0       ...           53.0   \n",
       "4                                                0.0       ...           53.0   \n",
       "\n",
       "   histogram_max  histogram_number_of_peaks  histogram_number_of_zeroes  \\\n",
       "0          126.0                        2.0                         0.0   \n",
       "1          198.0                        6.0                         1.0   \n",
       "2          198.0                        5.0                         1.0   \n",
       "3          170.0                       11.0                         0.0   \n",
       "4          170.0                        9.0                         0.0   \n",
       "\n",
       "   histogram_mode  histogram_mean  histogram_median  histogram_variance  \\\n",
       "0           120.0           137.0             121.0                73.0   \n",
       "1           141.0           136.0             140.0                12.0   \n",
       "2           141.0           135.0             138.0                13.0   \n",
       "3           137.0           134.0             137.0                13.0   \n",
       "4           137.0           136.0             138.0                11.0   \n",
       "\n",
       "   histogram_tendency  fetal_health  \n",
       "0                 1.0           2.0  \n",
       "1                 0.0           1.0  \n",
       "2                 0.0           1.0  \n",
       "3                 1.0           1.0  \n",
       "4                 1.0           1.0  \n",
       "\n",
       "[5 rows x 22 columns]"
      ]
     },
     "execution_count": 2,
     "metadata": {},
     "output_type": "execute_result"
    }
   ],
   "source": [
    "df = pd.read_csv('fetal_health.csv')\n",
    "df.head()"
   ]
  },
  {
   "cell_type": "code",
   "execution_count": 3,
   "id": "cef6ce72",
   "metadata": {},
   "outputs": [
    {
     "name": "stdout",
     "output_type": "stream",
     "text": [
      "<class 'pandas.core.frame.DataFrame'>\n",
      "RangeIndex: 2126 entries, 0 to 2125\n",
      "Data columns (total 22 columns):\n",
      " #   Column                                                  Non-Null Count  Dtype  \n",
      "---  ------                                                  --------------  -----  \n",
      " 0   baseline value                                          2126 non-null   float64\n",
      " 1   accelerations                                           2126 non-null   float64\n",
      " 2   fetal_movement                                          2126 non-null   float64\n",
      " 3   uterine_contractions                                    2126 non-null   float64\n",
      " 4   light_decelerations                                     2126 non-null   float64\n",
      " 5   severe_decelerations                                    2126 non-null   float64\n",
      " 6   prolongued_decelerations                                2126 non-null   float64\n",
      " 7   abnormal_short_term_variability                         2126 non-null   float64\n",
      " 8   mean_value_of_short_term_variability                    2126 non-null   float64\n",
      " 9   percentage_of_time_with_abnormal_long_term_variability  2126 non-null   float64\n",
      " 10  mean_value_of_long_term_variability                     2126 non-null   float64\n",
      " 11  histogram_width                                         2126 non-null   float64\n",
      " 12  histogram_min                                           2126 non-null   float64\n",
      " 13  histogram_max                                           2126 non-null   float64\n",
      " 14  histogram_number_of_peaks                               2126 non-null   float64\n",
      " 15  histogram_number_of_zeroes                              2126 non-null   float64\n",
      " 16  histogram_mode                                          2126 non-null   float64\n",
      " 17  histogram_mean                                          2126 non-null   float64\n",
      " 18  histogram_median                                        2126 non-null   float64\n",
      " 19  histogram_variance                                      2126 non-null   float64\n",
      " 20  histogram_tendency                                      2126 non-null   float64\n",
      " 21  fetal_health                                            2126 non-null   float64\n",
      "dtypes: float64(22)\n",
      "memory usage: 365.5 KB\n"
     ]
    }
   ],
   "source": [
    "df.info()"
   ]
  },
  {
   "cell_type": "markdown",
   "id": "5bc6551c",
   "metadata": {},
   "source": [
    "O dataset não apresenta dados nulos e as colunas estão no formato numérico"
   ]
  },
  {
   "cell_type": "markdown",
   "id": "1c30e2cb",
   "metadata": {},
   "source": [
    "### Balanceamento"
   ]
  },
  {
   "cell_type": "code",
   "execution_count": 4,
   "id": "32edc917",
   "metadata": {},
   "outputs": [
    {
     "data": {
      "text/plain": [
       "1.0    0.778457\n",
       "2.0    0.138758\n",
       "3.0    0.082785\n",
       "Name: fetal_health, dtype: float64"
      ]
     },
     "execution_count": 4,
     "metadata": {},
     "output_type": "execute_result"
    }
   ],
   "source": [
    "#variável target da classificação: fetal_health\n",
    "\n",
    "df['fetal_health'].value_counts(normalize=True)"
   ]
  },
  {
   "cell_type": "code",
   "execution_count": 5,
   "id": "d83abce2",
   "metadata": {},
   "outputs": [
    {
     "data": {
      "text/plain": [
       "1.0    1655\n",
       "2.0     295\n",
       "3.0     176\n",
       "Name: fetal_health, dtype: int64"
      ]
     },
     "execution_count": 5,
     "metadata": {},
     "output_type": "execute_result"
    }
   ],
   "source": [
    "df['fetal_health'].value_counts()"
   ]
  },
  {
   "cell_type": "code",
   "execution_count": 6,
   "id": "5fb2adcb",
   "metadata": {},
   "outputs": [],
   "source": [
    "#os dados do target estão desbalanceados -> redução dos casos 1 e 2 para 250 (undersampling), a fim de diminuir \n",
    "#                                           a distância do número de casos entre eles e o caso 3."
   ]
  },
  {
   "cell_type": "code",
   "execution_count": 7,
   "id": "e6c20450",
   "metadata": {},
   "outputs": [
    {
     "name": "stdout",
     "output_type": "stream",
     "text": [
      "Numero de casos 1 (antes do undersampling):  1655\n",
      "Numero de casos 2 (antes do undersampling):  295\n",
      "Numero de casos 1 (após undersampling):  250\n",
      "Numero de casos 2 (após undersampling):  250\n",
      "\n",
      "Numero de casos para cada classe (balanceado):\n"
     ]
    },
    {
     "data": {
      "text/plain": [
       "2.0    250\n",
       "1.0    250\n",
       "3.0    176\n",
       "Name: fetal_health, dtype: int64"
      ]
     },
     "metadata": {},
     "output_type": "display_data"
    }
   ],
   "source": [
    "#Numero final de elementos\n",
    "n = 250\n",
    "\n",
    "index_1 = df[df['fetal_health'] == 1].index.to_numpy()\n",
    "index_2 = df[df['fetal_health'] == 2].index.to_numpy()\n",
    "\n",
    "print('Numero de casos 1 (antes do undersampling): ', len(index_1))\n",
    "print('Numero de casos 2 (antes do undersampling): ', len(index_2))\n",
    "\n",
    "#Escolhendo os n indices de cada amostra de forma arbitrária\n",
    "u_index_1 = list(np.random.choice(index_1, n))\n",
    "u_index_2 = list(np.random.choice(index_2, n))\n",
    "\n",
    "print('Numero de casos 1 (após undersampling): ', len(u_index_1))\n",
    "print('Numero de casos 2 (após undersampling): ', len(u_index_2))\n",
    "\n",
    "#Refazendo o data frame com os dados balanceados\n",
    "df = pd.concat([df[df['fetal_health'] == 1].loc[u_index_1],\n",
    "                df[df['fetal_health'] == 2].loc[u_index_2],\n",
    "                df[df['fetal_health'] == 3]], ignore_index=True)\n",
    "\n",
    "print('\\nNumero de casos para cada classe (balanceado):')\n",
    "display(df['fetal_health'].value_counts())"
   ]
  },
  {
   "cell_type": "markdown",
   "id": "ab78a100",
   "metadata": {},
   "source": [
    "## B. Processamento do conjunto de dados"
   ]
  },
  {
   "cell_type": "markdown",
   "id": "252db7a3",
   "metadata": {},
   "source": [
    "### Identificando a correlação das características (features)"
   ]
  },
  {
   "cell_type": "code",
   "execution_count": 8,
   "id": "0330e94c",
   "metadata": {},
   "outputs": [
    {
     "data": {
      "text/plain": [
       "fetal_health                                              1.000000\n",
       "abnormal_short_term_variability                           0.528437\n",
       "accelerations                                             0.499608\n",
       "prolongued_decelerations                                  0.473383\n",
       "histogram_mode                                            0.380240\n",
       "mean_value_of_long_term_variability                       0.377682\n",
       "histogram_mean                                            0.359498\n",
       "histogram_median                                          0.358398\n",
       "percentage_of_time_with_abnormal_long_term_variability    0.336112\n",
       "histogram_variance                                        0.278569\n",
       "histogram_tendency                                        0.238695\n",
       "uterine_contractions                                      0.158036\n",
       "severe_decelerations                                      0.133534\n",
       "light_decelerations                                       0.119829\n",
       "fetal_movement                                            0.100653\n",
       "histogram_max                                             0.078067\n",
       "baseline value                                            0.054976\n",
       "histogram_width                                           0.028155\n",
       "histogram_number_of_zeroes                                0.025833\n",
       "histogram_number_of_peaks                                 0.023898\n",
       "histogram_min                                             0.007674\n",
       "mean_value_of_short_term_variability                      0.003201\n",
       "Name: fetal_health, dtype: float64"
      ]
     },
     "execution_count": 8,
     "metadata": {},
     "output_type": "execute_result"
    }
   ],
   "source": [
    "#Vendo a correlação numérica entre todas as features e o target (ordenado da mais influente para a menos)\n",
    "df.corr()['fetal_health'].apply(lambda x:x*(-1) if x<0 else x).sort_values(ascending=False)"
   ]
  },
  {
   "cell_type": "markdown",
   "id": "27edc2d0",
   "metadata": {},
   "source": [
    "### Filtrando o conjunto de dados"
   ]
  },
  {
   "cell_type": "markdown",
   "id": "41b06617",
   "metadata": {},
   "source": [
    "Como o conjunto de dados conta com muitas colunas, será feita uma redução para as colunas mais influentes na variável. As colunas escolhidas foram:\n",
    "\n",
    "Column|Value\n",
    "-----------|------------------\n",
    "abnormal_short_term_variability|                           0.553641\n",
    "prolongued_decelerations|                                  0.490576\n",
    "accelerations|                                             0.460534\n",
    "histogram_mode|                                            0.397466\n",
    "histogram_mean|                                           0.393664\n",
    "histogram_median|                                          0.370974\n",
    "mean_value_of_long_term_variability|                       0.368310\n",
    "percentage_of_time_with_abnormal_long_term_variability|    0.321691\n",
    "histogram_variance|                                        0.309877\n",
    "histogram_tendency|                                        0.213464\n",
    "light_decelerations|                                       0.195942"
   ]
  },
  {
   "cell_type": "code",
   "execution_count": 12,
   "id": "cc6d0fba",
   "metadata": {},
   "outputs": [],
   "source": [
    "df = df[['abnormal_short_term_variability',\n",
    "         'prolongued_decelerations', \n",
    "         'accelerations',\n",
    "         'histogram_mode',\n",
    "         'histogram_mean',\n",
    "         'histogram_median',\n",
    "         'mean_value_of_long_term_variability', \n",
    "         'percentage_of_time_with_abnormal_long_term_variability',\n",
    "         'histogram_variance',\n",
    "         'histogram_tendency',\n",
    "         'light_decelerations',\n",
    "         'fetal_health']].copy()"
   ]
  },
  {
   "cell_type": "markdown",
   "id": "2d3560b4",
   "metadata": {},
   "source": [
    "### Salvando os resultados"
   ]
  },
  {
   "cell_type": "code",
   "execution_count": 10,
   "id": "5cd66e62",
   "metadata": {},
   "outputs": [],
   "source": [
    "df.to_csv('fetal_health_balanced.csv', index=False)"
   ]
  }
 ],
 "metadata": {
  "kernelspec": {
   "display_name": "Python 3",
   "language": "python",
   "name": "python3"
  },
  "language_info": {
   "codemirror_mode": {
    "name": "ipython",
    "version": 3
   },
   "file_extension": ".py",
   "mimetype": "text/x-python",
   "name": "python",
   "nbconvert_exporter": "python",
   "pygments_lexer": "ipython3",
   "version": "3.9.4"
  }
 },
 "nbformat": 4,
 "nbformat_minor": 5
}
